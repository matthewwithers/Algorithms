{
 "cells": [
  {
   "cell_type": "code",
   "execution_count": 13,
   "id": "4882d943",
   "metadata": {},
   "outputs": [],
   "source": [
    "# nodes\n",
    "# edges\n",
    "# parent\n",
    "# ancestor\n",
    "# child\n",
    "# descendant\n",
    "# sibling\n",
    "# root\n",
    "# leaf\n",
    "#             20\n",
    "#         /       \\\n",
    "#        10        25\n",
    "#       /  \\         \\\n",
    "#     7     18        32\n",
    "#      \\\n",
    "#       9"
   ]
  },
  {
   "cell_type": "code",
   "execution_count": 29,
   "id": "a849a850",
   "metadata": {},
   "outputs": [],
   "source": [
    "class Node:\n",
    "    def __init__(self, value):\n",
    "        self.value = value\n",
    "        self.left = None\n",
    "        self.right = None\n",
    "\n",
    "\n",
    "class BinarySearchTree:\n",
    "    def __init__(self):\n",
    "        self.root = None\n",
    "\n",
    "    def insert(self, value):\n",
    "        new_node = Node(value)\n",
    "        # check if tree is currently empty\n",
    "        if not self.root:\n",
    "            self.root = new_node\n",
    "            return self\n",
    "        current_node = self.root\n",
    "        while value != current_node.value:\n",
    "            if value < current_node.value:\n",
    "                if not current_node.left:\n",
    "                    current_node.left = new_node\n",
    "                    break\n",
    "                current_node = current_node.left\n",
    "            else:\n",
    "                if not current_node.right:\n",
    "                    current_node.right = new_node\n",
    "                    break\n",
    "                current_node = current_node.right\n",
    "        return self\n",
    "\n",
    "    def contains(self,value):\n",
    "        current_node = self.root\n",
    "        while current_node:\n",
    "            if value == current_node.value:\n",
    "                return True\n",
    "            if value < current_node.value:\n",
    "                    current_node = current_node.left\n",
    "            else:\n",
    "                current_node = current_node.right\n",
    "        return False\n"
   ]
  },
  {
   "cell_type": "code",
   "execution_count": 31,
   "id": "201f93d8",
   "metadata": {},
   "outputs": [
    {
     "data": {
      "text/plain": [
       "True"
      ]
     },
     "execution_count": 31,
     "metadata": {},
     "output_type": "execute_result"
    }
   ],
   "source": [
    "oak_tree = BinarySearchTree()\n",
    "oak_tree.insert(22)\n",
    "oak_tree.insert(30)\n",
    "oak_tree.insert(5)\n",
    "oak_tree.insert(23)\n",
    "\n",
    "oak_tree.root.value\n",
    "oak_tree.root.left.value\n",
    "oak_tree.root.right.left.value\n",
    "\n",
    "oak_tree.contains(23)"
   ]
  },
  {
   "cell_type": "code",
   "execution_count": null,
   "id": "493e262b",
   "metadata": {},
   "outputs": [],
   "source": []
  }
 ],
 "metadata": {
  "kernelspec": {
   "display_name": "Python 3",
   "language": "python",
   "name": "python3"
  },
  "language_info": {
   "codemirror_mode": {
    "name": "ipython",
    "version": 3
   },
   "file_extension": ".py",
   "mimetype": "text/x-python",
   "name": "python",
   "nbconvert_exporter": "python",
   "pygments_lexer": "ipython3",
   "version": "3.9.6"
  }
 },
 "nbformat": 4,
 "nbformat_minor": 5
}
