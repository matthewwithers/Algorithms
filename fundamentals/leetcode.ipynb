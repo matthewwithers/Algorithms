{
 "cells": [
  {
   "cell_type": "code",
   "execution_count": null,
   "id": "a2d54604",
   "metadata": {},
   "outputs": [
    {
     "data": {
      "text/plain": [
       "'ababababaa'"
      ]
     },
     "execution_count": 82,
     "metadata": {},
     "output_type": "execute_result"
    }
   ],
   "source": [
    "# A fancy string is a string where no three consecutive characters are equal.\n",
    "# Given a string s, delete the minimum possible number of characters from s to make it fancy.\n",
    "# Return the final string after the deletion. It can be shown that the answer will always be unique.\n",
    "\n",
    "def makeFancyString(s):\n",
    "    ans = []\n",
    "    last = s[0]\n",
    "    ans.append(last)\n",
    "    count = 1\n",
    "    for i in range(1, len(s)):\n",
    "        if s[i] == last:\n",
    "            count += 1\n",
    "            if count < 3:\n",
    "                ans.append(s[i])\n",
    "        else:\n",
    "            last = s[i]\n",
    "            count = 1\n",
    "            ans.append(s[i])\n",
    "    return \"\".join(ans)\n",
    "\n",
    "\n",
    "makeFancyString(s='ababababaaaa')"
   ]
  },
  {
   "cell_type": "code",
   "execution_count": null,
   "id": "78218549",
   "metadata": {},
   "outputs": [],
   "source": []
  },
  {
   "cell_type": "code",
   "execution_count": null,
   "id": "3e99ab9f",
   "metadata": {},
   "outputs": [],
   "source": []
  }
 ],
 "metadata": {
  "kernelspec": {
   "display_name": "Python 3",
   "language": "python",
   "name": "python3"
  },
  "language_info": {
   "codemirror_mode": {
    "name": "ipython",
    "version": 3
   },
   "file_extension": ".py",
   "mimetype": "text/x-python",
   "name": "python",
   "nbconvert_exporter": "python",
   "pygments_lexer": "ipython3",
   "version": "3.9.6"
  }
 },
 "nbformat": 4,
 "nbformat_minor": 5
}
