{
 "cells": [
  {
   "cell_type": "code",
   "execution_count": 1,
   "id": "0a2b0e0c",
   "metadata": {},
   "outputs": [],
   "source": [
    "# [node 1] -> [node 2] -> [node 3] -> None"
   ]
  },
  {
   "cell_type": "code",
   "execution_count": 2,
   "id": "6b735186",
   "metadata": {},
   "outputs": [],
   "source": [
    "class Node:\n",
    "    def __init__(self, value):\n",
    "        self.value = value\n",
    "        self.next = None"
   ]
  },
  {
   "cell_type": "code",
   "execution_count": null,
   "id": "460faa9d",
   "metadata": {},
   "outputs": [
    {
     "name": "stdout",
     "output_type": "stream",
     "text": [
      "<__main__.SinglyLinkedList object at 0x106946d60>\n"
     ]
    }
   ],
   "source": [
    "class SinglyLinkedList:\n",
    "    def __init__(self):\n",
    "        self.head = None\n",
    "        self.tail = None\n",
    "        self._length = 0\n",
    "\n",
    "    # Append (Add new elements to the end of the list)\n",
    "    def append(self, value):\n",
    "        new_node = Node(value)\n",
    "        if not self._length:\n",
    "            self.head = self.tail = new_node # set head/tail to the new_node if ll is empty\n",
    "        else:\n",
    "            self.tail.next = new_node\n",
    "            self.tail = new_node\n",
    "        self._length += 1\n",
    "        return self\n",
    "\n",
    "    # Prepend (Add new element to the beginning of the list)\n",
    "    def prepend(self,value):\n",
    "        new_node = Node(value)\n",
    "        if not self._length:\n",
    "            self.head = self.tail = new_node\n",
    "        else:\n",
    "            new_node.next = self.head\n",
    "            self.head = new_node\n",
    "        self._length +=1\n",
    "        return self\n",
    "\n",
    "    # Pop Left\n",
    "    def pop_left(self):\n",
    "        if not self._length:\n",
    "            raise Exception(\"list is empty\")\n",
    "        former_head = self.head\n",
    "        self.head = former_head.next\n",
    "        former_head.next = None\n",
    "        self._length -= 1\n",
    "        if not self._length:\n",
    "            self.tail = None\n",
    "        return former_head.value\n",
    "    \n",
    "    # Pop Right\n",
    "    def pop_right(self):\n",
    "        if not self._length:\n",
    "            raise Exception(\"list is empty\")\n",
    "        tail_value = self.tail.value\n",
    "        if self._length ==1:\n",
    "            self.head = self.tail = None\n",
    "        else:\n",
    "            temp_node = self.head\n",
    "            while temp_node.next is not self.tail:\n",
    "                temp_node = temp_node.next\n",
    "            self.tail = temp_node\n",
    "            self.tail.next = None\n",
    "        self._length -= 1\n",
    "        return tail_value\n",
    "    \n",
    "    # Remove\n",
    "    def remove(self,value):\n",
    "        if not self._length:\n",
    "            raise Exception(\"list is empty\")\n",
    "        if self.head.value == value:\n",
    "            return self.pop_left()\n",
    "        previous_node = self.head\n",
    "        current_node = self.head.next\n",
    "        while current_node is not None and current_node.value != value:\n",
    "            previous_node = current_node\n",
    "            current_node = current_node.next\n",
    "        if current_node is None:\n",
    "            raise ValueError('item not in list')\n",
    "        previous_node.next = current_node.next\n",
    "        current_node.next = None\n",
    "        self._length -=1\n",
    "        return current_node.value\n",
    "    \n",
    "    def reverse(self):\n",
    "        if self._length < 2:\n",
    "            return self \n",
    "        left_node = None\n",
    "        middle_node = self.head\n",
    "        while middle_node is not None:\n",
    "            right_node = middle_node.next\n",
    "            middle_node.next = left_node\n",
    "            left_node = middle_node\n",
    "            middle_node = right_node\n",
    "        self.head, self.tail = self.tail, self.head\n",
    "        return self\n",
    "\n",
    "        \n",
    "\n",
    "\n",
    "\n",
    "\n",
    "\n",
    "        \n",
    "\n",
    "        \n",
    "\n",
    "\n",
    "        \n",
    "\n",
    "        \n",
    "\n",
    "    \n",
    "\n",
    "\n",
    "\n",
    "\n",
    "\n",
    "\n",
    "\n",
    "my_list = SinglyLinkedList()\n",
    "print(my_list)"
   ]
  },
  {
   "cell_type": "code",
   "execution_count": 4,
   "id": "836809d6",
   "metadata": {},
   "outputs": [
    {
     "name": "stdout",
     "output_type": "stream",
     "text": [
      "None\n"
     ]
    }
   ],
   "source": [
    "print(my_list.head)"
   ]
  },
  {
   "cell_type": "code",
   "execution_count": 5,
   "id": "70b3ff5e",
   "metadata": {},
   "outputs": [
    {
     "name": "stdout",
     "output_type": "stream",
     "text": [
      "None\n"
     ]
    }
   ],
   "source": [
    "print(my_list.tail)"
   ]
  },
  {
   "cell_type": "code",
   "execution_count": 6,
   "id": "79c47298",
   "metadata": {},
   "outputs": [
    {
     "name": "stdout",
     "output_type": "stream",
     "text": [
      "0\n"
     ]
    }
   ],
   "source": [
    "print(my_list._length)"
   ]
  },
  {
   "cell_type": "code",
   "execution_count": 7,
   "id": "33baf712",
   "metadata": {},
   "outputs": [
    {
     "data": {
      "text/plain": [
       "<__main__.SinglyLinkedList at 0x106946d60>"
      ]
     },
     "execution_count": 7,
     "metadata": {},
     "output_type": "execute_result"
    }
   ],
   "source": [
    "my_list.append('Harry Potter and the Sorcerer Stone')"
   ]
  },
  {
   "cell_type": "code",
   "execution_count": 8,
   "id": "dd31adad",
   "metadata": {},
   "outputs": [
    {
     "name": "stdout",
     "output_type": "stream",
     "text": [
      "Harry Potter and the Sorcerer Stone\n",
      "Harry Potter and the Sorcerer Stone\n"
     ]
    }
   ],
   "source": [
    "print(my_list.head.value)\n",
    "print(my_list.tail.value)"
   ]
  },
  {
   "cell_type": "code",
   "execution_count": 9,
   "id": "1516bf6d",
   "metadata": {},
   "outputs": [
    {
     "data": {
      "text/plain": [
       "<__main__.SinglyLinkedList at 0x106946d60>"
      ]
     },
     "execution_count": 9,
     "metadata": {},
     "output_type": "execute_result"
    }
   ],
   "source": [
    "my_list.append('Harry Potter and the Chamber of Secrets')"
   ]
  },
  {
   "cell_type": "code",
   "execution_count": 10,
   "id": "97d7f60e",
   "metadata": {},
   "outputs": [
    {
     "name": "stdout",
     "output_type": "stream",
     "text": [
      "Harry Potter and the Sorcerer Stone\n",
      "Harry Potter and the Chamber of Secrets\n",
      "2\n"
     ]
    }
   ],
   "source": [
    "print(my_list.head.value)\n",
    "print(my_list.tail.value)\n",
    "print(my_list._length)"
   ]
  },
  {
   "cell_type": "code",
   "execution_count": 11,
   "id": "01fbb835",
   "metadata": {},
   "outputs": [
    {
     "data": {
      "text/plain": [
       "<__main__.SinglyLinkedList at 0x106946d60>"
      ]
     },
     "execution_count": 11,
     "metadata": {},
     "output_type": "execute_result"
    }
   ],
   "source": [
    "my_list.prepend('Harry Potter the Cursed Child')"
   ]
  },
  {
   "cell_type": "code",
   "execution_count": 12,
   "id": "cd2e32a7",
   "metadata": {},
   "outputs": [
    {
     "name": "stdout",
     "output_type": "stream",
     "text": [
      "Harry Potter the Cursed Child\n",
      "Harry Potter and the Sorcerer Stone\n"
     ]
    }
   ],
   "source": [
    "print(my_list.head.value)\n",
    "print(my_list.head.next.value)"
   ]
  },
  {
   "cell_type": "code",
   "execution_count": null,
   "id": "2d552daa",
   "metadata": {},
   "outputs": [],
   "source": []
  }
 ],
 "metadata": {
  "kernelspec": {
   "display_name": "Python 3",
   "language": "python",
   "name": "python3"
  },
  "language_info": {
   "codemirror_mode": {
    "name": "ipython",
    "version": 3
   },
   "file_extension": ".py",
   "mimetype": "text/x-python",
   "name": "python",
   "nbconvert_exporter": "python",
   "pygments_lexer": "ipython3",
   "version": "3.9.6"
  }
 },
 "nbformat": 4,
 "nbformat_minor": 5
}
