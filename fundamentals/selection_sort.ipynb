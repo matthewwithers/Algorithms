{
 "cells": [
  {
   "cell_type": "code",
   "execution_count": null,
   "id": "f37b9a56",
   "metadata": {},
   "outputs": [],
   "source": [
    "array = [8, 5, 2, 9, 5, 6, 3]\n",
    "\n",
    "\n",
    "def selectionSort(array):\n",
    "    for i, item in enumerate(array):\n",
    "        print(i,item)\n",
    "    #     min_indx = len(array) - 1\n",
    "    #     for j in range(i, len(array)):\n",
    "    #         if array[j] < array[min_indx]:\n",
    "    #             min_indx = j\n",
    "    #     if min_indx != i:\n",
    "    #         array[min_indx], array[i] = array[i], array[min_indx]\n",
    "    # return array"
   ]
  }
 ],
 "metadata": {
  "kernelspec": {
   "display_name": "Python 3",
   "language": "python",
   "name": "python3"
  },
  "language_info": {
   "name": "python",
   "version": "3.9.6"
  }
 },
 "nbformat": 4,
 "nbformat_minor": 5
}
