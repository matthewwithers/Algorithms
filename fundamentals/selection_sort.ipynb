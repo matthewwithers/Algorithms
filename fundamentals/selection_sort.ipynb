{
 "cells": [
  {
   "cell_type": "code",
   "execution_count": null,
   "id": "31d6e1f5",
   "metadata": {},
   "outputs": [],
   "source": [
    "array = [13, 10, 59, 23, 70, 11, 42, 17, 31, 95, 20]"
   ]
  },
  {
   "cell_type": "code",
   "execution_count": null,
   "id": "4e658504",
   "metadata": {},
   "outputs": [
    {
     "data": {
      "text/plain": [
       "[10, 11, 17, 20, 23, 31, 42, 59, 70, 95]"
      ]
     },
     "execution_count": 6,
     "metadata": {},
     "output_type": "execute_result"
    }
   ],
   "source": [
    "def selection_sort(array):\n",
    "    for i in range(len(array)):\n",
    "        smallest = i\n",
    "        for j in range(i+1, len(array)):\n",
    "            if array[j] < array[smallest]:\n",
    "                smallest = j\n",
    "        array[i], array[smallest] = array[smallest], array[i]\n",
    "    \n",
    "    return array\n",
    "\n",
    "\n",
    "selection_sort(array)"
   ]
  },
  {
   "cell_type": "code",
   "execution_count": null,
   "id": "cac3dbdd",
   "metadata": {},
   "outputs": [],
   "source": []
  }
 ],
 "metadata": {
  "kernelspec": {
   "display_name": "Python 3",
   "language": "python",
   "name": "python3"
  },
  "language_info": {
   "codemirror_mode": {
    "name": "ipython",
    "version": 3
   },
   "file_extension": ".py",
   "mimetype": "text/x-python",
   "name": "python",
   "nbconvert_exporter": "python",
   "pygments_lexer": "ipython3",
   "version": "3.9.6"
  }
 },
 "nbformat": 4,
 "nbformat_minor": 5
}
