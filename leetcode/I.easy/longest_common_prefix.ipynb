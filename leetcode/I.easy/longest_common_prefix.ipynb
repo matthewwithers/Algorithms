{
 "cells": [
  {
   "cell_type": "code",
   "execution_count": null,
   "id": "296c5369",
   "metadata": {},
   "outputs": [],
   "source": [
    "# Write a function to find the longest common prefix string amongst an array of strings.\n",
    "# If there is no common prefix, return an empty string \"\".\n",
    "\n",
    "# Input: strs = [\"flower\", \"flight\", \"flow\"]\n",
    "# Output: \"fl\"\n",
    "\n",
    "# Input: strs = [\"dog\", \"racecar\", \"car\"]\n",
    "# Output: \"\""
   ]
  },
  {
   "cell_type": "code",
   "execution_count": 1,
   "id": "c6243e12",
   "metadata": {},
   "outputs": [],
   "source": [
    "def longestCommonPrefix(strs):\n",
    "    \"\"\"\n",
    "    :type strs: List[str]\n",
    "    :rtype: str\n",
    "    \"\"\"\n",
    "    current_prefix = strs[0]\n",
    "    for i in range(1, len(strs)):\n",
    "        while current_prefix != strs[i][:len(current_prefix)] and len(current_prefix) > 0:\n",
    "            print(current_prefix)\n",
    "            print(strs[i][:len(current_prefix)])\n",
    "            current_prefix = current_prefix[:len(current_prefix)-1]\n",
    "    return current_prefix    "
   ]
  },
  {
   "cell_type": "code",
   "execution_count": 3,
   "id": "ab804f22",
   "metadata": {},
   "outputs": [
    {
     "name": "stdout",
     "output_type": "stream",
     "text": [
      "flow\n",
      "flig\n",
      "flo\n",
      "fli\n"
     ]
    },
    {
     "data": {
      "text/plain": [
       "'fl'"
      ]
     },
     "execution_count": 3,
     "metadata": {},
     "output_type": "execute_result"
    }
   ],
   "source": [
    "longestCommonPrefix([\"flow\", \"flower\", \"flight\"])\n",
    "# longestCommonPrefix([\"dog\", \"racecar\",\"car\"])"
   ]
  },
  {
   "cell_type": "markdown",
   "id": "b780b876",
   "metadata": {},
   "source": []
  },
  {
   "cell_type": "code",
   "execution_count": null,
   "id": "66f5834e",
   "metadata": {},
   "outputs": [],
   "source": []
  },
  {
   "cell_type": "code",
   "execution_count": null,
   "id": "aa193ed0",
   "metadata": {},
   "outputs": [],
   "source": []
  }
 ],
 "metadata": {
  "kernelspec": {
   "display_name": "Python 3",
   "language": "python",
   "name": "python3"
  },
  "language_info": {
   "codemirror_mode": {
    "name": "ipython",
    "version": 3
   },
   "file_extension": ".py",
   "mimetype": "text/x-python",
   "name": "python",
   "nbconvert_exporter": "python",
   "pygments_lexer": "ipython3",
   "version": "3.9.6"
  }
 },
 "nbformat": 4,
 "nbformat_minor": 5
}
