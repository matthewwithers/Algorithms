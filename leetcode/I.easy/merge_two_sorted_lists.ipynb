{
 "cells": [
  {
   "cell_type": "code",
   "execution_count": 207,
   "id": "31fb79f2",
   "metadata": {},
   "outputs": [],
   "source": [
    "# You are given the heads of two sorted linked lists list1 and list2.\n",
    "# Merge the two lists into one sorted list. The list should be made by splicing together the nodes of the first two lists.\n",
    "# Return the head of the merged linked list.\n",
    "\n",
    "# node [1] -> node [2] -> node [4]\n",
    "# node [1] -> node [3] -> node [4]\n",
    "\n",
    "# node [1] -> node [1] -> node [2] -> node [3] -> node [4] -> node [4]"
   ]
  },
  {
   "cell_type": "code",
   "execution_count": 208,
   "id": "9fa17472",
   "metadata": {},
   "outputs": [],
   "source": [
    "class Node:\n",
    "    def __init__(self, value):\n",
    "        self.value = value\n",
    "        self.next = None\n",
    "\n",
    "\n",
    "class LinkedList:\n",
    "    def __init__(self):\n",
    "        self.head = None\n",
    "        self.tail = None\n",
    "        self._length = 0\n",
    "\n",
    "    def append(self, value):\n",
    "        new_node = Node(value)\n",
    "        if not self._length:\n",
    "            self.head = self.tail = new_node\n",
    "        else:\n",
    "            self.tail.next = new_node\n",
    "            self.tail = new_node\n",
    "        self._length += 1\n",
    "        return self\n",
    "    \n",
    "    def pop_left(self):\n",
    "        if not self._length:\n",
    "            raise Exception('list is empty')\n",
    "        former_head = self.head\n",
    "        self.head = former_head.next\n",
    "        former_head.next = None\n",
    "        self._length -= 1\n",
    "        if not self._length:\n",
    "            self.tail = None\n",
    "        return former_head.value"
   ]
  },
  {
   "cell_type": "code",
   "execution_count": null,
   "id": "f5c40cc9",
   "metadata": {},
   "outputs": [
    {
     "data": {
      "text/plain": [
       "<__main__.LinkedList at 0x107735610>"
      ]
     },
     "execution_count": 209,
     "metadata": {},
     "output_type": "execute_result"
    }
   ],
   "source": [
    "list1 = LinkedList()\n",
    "list2 = LinkedList()\n",
    "\n",
    "list1.append(1)\n",
    "list1.append(2)\n",
    "list1.append(4)\n",
    "\n",
    "list2.append(1)\n",
    "list2.append(3)\n",
    "list2.append(4)"
   ]
  },
  {
   "cell_type": "code",
   "execution_count": 210,
   "id": "93664262",
   "metadata": {},
   "outputs": [
    {
     "name": "stdout",
     "output_type": "stream",
     "text": [
      "0\n",
      "1\n"
     ]
    }
   ],
   "source": [
    "print(list1._length)\n",
    "print(list2._length)"
   ]
  },
  {
   "cell_type": "code",
   "execution_count": 211,
   "id": "cf364f40",
   "metadata": {},
   "outputs": [],
   "source": [
    "def mergeTwoLists(list1, list2):\n",
    "    \"\"\"\n",
    "        :type list1: Optional[ListNode]\n",
    "        :type list2: Optional[ListNode]\n",
    "        :rtype: Optional[ListNode]\n",
    "    \"\"\"\n",
    "    merged_list = LinkedList()\n",
    "    staged_list = []\n",
    "\n",
    "    while list1._length + list2._length:\n",
    "        if list1._length:\n",
    "            merging_value = list1.pop_left()\n",
    "            staged_list.append(merging_value)\n",
    "        if list2._length:\n",
    "            merging_value = list2.pop_left()\n",
    "            staged_list.append(merging_value)\n",
    "\n",
    "    for i in staged_list:\n",
    "        merged_list.append(i)\n",
    "\n",
    "    return merged_list"
   ]
  },
  {
   "cell_type": "code",
   "execution_count": 212,
   "id": "29fb272a",
   "metadata": {},
   "outputs": [
    {
     "name": "stdout",
     "output_type": "stream",
     "text": [
      "1\n"
     ]
    }
   ],
   "source": [
    "my_list = mergeTwoLists(list1,list2)\n",
    "print(my_list._length)\n"
   ]
  },
  {
   "cell_type": "code",
   "execution_count": null,
   "id": "da2e8385",
   "metadata": {},
   "outputs": [
    {
     "name": "stdout",
     "output_type": "stream",
     "text": [
      "1\n",
      "0\n"
     ]
    }
   ],
   "source": [
    "print(my_list._length)\n",
    "print(my_list.head.value)\n",
    "\n",
    "print(my_list.tail.value)"
   ]
  },
  {
   "cell_type": "code",
   "execution_count": null,
   "id": "34a58f50",
   "metadata": {},
   "outputs": [],
   "source": [
    "print(my_list.head.value)\n",
    "print(my_list.head.next.value)\n",
    "print(my_list.head.next.next.value)\n",
    "print(my_list.head.next.next.next.value)\n",
    "print(my_list.head.next.next.next.next.next.value)"
   ]
  },
  {
   "cell_type": "code",
   "execution_count": null,
   "id": "eee4543f",
   "metadata": {},
   "outputs": [],
   "source": []
  }
 ],
 "metadata": {
  "kernelspec": {
   "display_name": "Python 3",
   "language": "python",
   "name": "python3"
  },
  "language_info": {
   "codemirror_mode": {
    "name": "ipython",
    "version": 3
   },
   "file_extension": ".py",
   "mimetype": "text/x-python",
   "name": "python",
   "nbconvert_exporter": "python",
   "pygments_lexer": "ipython3",
   "version": "3.9.6"
  }
 },
 "nbformat": 4,
 "nbformat_minor": 5
}
