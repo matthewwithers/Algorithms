{
 "cells": [
  {
   "cell_type": "code",
   "execution_count": 1,
   "id": "af8ee29d",
   "metadata": {},
   "outputs": [],
   "source": [
    "# Given an integer x, return true if x is a \"palindrome\" and false otherwise."
   ]
  },
  {
   "cell_type": "code",
   "execution_count": 7,
   "id": "787386a2",
   "metadata": {},
   "outputs": [],
   "source": [
    "def isPalindrome(x):\n",
    "    \"\"\"\n",
    "    :type x: int\n",
    "    :rtype: bool\n",
    "    \"\"\"\n",
    "    if x < 0:\n",
    "        return False\n",
    "    else:\n",
    "        return int(str(x)[::-1]) == x"
   ]
  },
  {
   "cell_type": "code",
   "execution_count": 9,
   "id": "09f35a6f",
   "metadata": {},
   "outputs": [
    {
     "data": {
      "text/plain": [
       "False"
      ]
     },
     "execution_count": 9,
     "metadata": {},
     "output_type": "execute_result"
    }
   ],
   "source": [
    "isPalindrome(-2123)"
   ]
  },
  {
   "cell_type": "code",
   "execution_count": null,
   "id": "8b62f96b",
   "metadata": {},
   "outputs": [],
   "source": [
    "def isPalindrome(x): # without converting to string\n",
    "    \"\"\"\n",
    "    :type x: int\n",
    "    :rtype: bool\n",
    "    \"\"\"\n",
    "    # 6998996\n",
    "    if x < 0:\n",
    "        return False\n",
    "    original_num = x\n",
    "    reversed_num = 0\n",
    "    while x > 0:\n",
    "        last_digit = x % 10\n",
    "        reversed_num = reversed_num * 10 + last_digit\n",
    "        x = x // 10\n",
    "    return reversed_num == original_num"
   ]
  },
  {
   "cell_type": "code",
   "execution_count": null,
   "id": "84a26434",
   "metadata": {},
   "outputs": [
    {
     "name": "stdout",
     "output_type": "stream",
     "text": [
      "7\n"
     ]
    }
   ],
   "source": [
    "isPalindrome(6998996)\n",
    "\n"
   ]
  },
  {
   "cell_type": "code",
   "execution_count": null,
   "id": "e3769b6c",
   "metadata": {},
   "outputs": [],
   "source": []
  }
 ],
 "metadata": {
  "kernelspec": {
   "display_name": "Python 3",
   "language": "python",
   "name": "python3"
  },
  "language_info": {
   "codemirror_mode": {
    "name": "ipython",
    "version": 3
   },
   "file_extension": ".py",
   "mimetype": "text/x-python",
   "name": "python",
   "nbconvert_exporter": "python",
   "pygments_lexer": "ipython3",
   "version": "3.9.6"
  }
 },
 "nbformat": 4,
 "nbformat_minor": 5
}
