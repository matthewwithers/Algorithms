{
 "cells": [
  {
   "cell_type": "code",
   "execution_count": 1,
   "id": "a0ea923e",
   "metadata": {},
   "outputs": [],
   "source": [
    "# Roman numerals are represented by seven different symbols: I, V, X, L, C, D and M.\n",
    "# Symbol       Value\n",
    "# I             1\n",
    "# V             5\n",
    "# X             10\n",
    "# L             50\n",
    "# C             100\n",
    "# D             500\n",
    "# M             1000\n",
    "\n",
    "# For example, 2 is written as II in Roman numeral, just two ones added together. 12 is written as XII, which is simply X + II. The number 27 is written as XXVII, which is XX + V + II.\n",
    "\n",
    "# Roman numerals are usually written largest to smallest from left to right. However, the numeral for four is not IIII. Instead, the number four is written as IV. Because the one is before the five we subtract it making four. The same principle applies to the number nine, which is written as IX. There are six instances where subtraction is used:\n",
    "\n",
    "#     I can be placed before V (5) and X (10) to make 4 and 9. \n",
    "#     X can be placed before L (50) and C (100) to make 40 and 90. \n",
    "#     C can be placed before D (500) and M (1000) to make 400 and 900.\n",
    "\n",
    "# Given a roman numeral, convert it to an integer."
   ]
  },
  {
   "cell_type": "code",
   "execution_count": null,
   "id": "b146b3ac",
   "metadata": {},
   "outputs": [],
   "source": [
    "def romanToInt(s):\n",
    "    \"\"\"\n",
    "    :type s: str\n",
    "    :rtype: int\n",
    "    \"\"\"\n",
    "    roman = {'I':1, 'V':5, 'X':10, 'L':50,\n",
    "                 'C':100, 'D':500, 'M':1000}\n",
    "    ans=0 \n",
    "    for i in range(len(s)):\n",
    "        curr = roman[s[i]]\n",
    "        next_val = roman[s[i+1]] if i+1 < len(s) else 0\n",
    "        if curr < next_val:\n",
    "            ans-=curr\n",
    "        else:\n",
    "            result += curr\n",
    "    return ans\n",
    "            "
   ]
  },
  {
   "cell_type": "code",
   "execution_count": 30,
   "id": "47cc4658",
   "metadata": {},
   "outputs": [
    {
     "name": "stdout",
     "output_type": "stream",
     "text": [
      "0\n",
      "1\n",
      "2\n",
      "3\n",
      "4\n",
      "5\n",
      "6\n"
     ]
    }
   ],
   "source": [
    "romanToInt('MCMXCIV')"
   ]
  },
  {
   "cell_type": "code",
   "execution_count": null,
   "id": "658d7b26",
   "metadata": {},
   "outputs": [],
   "source": []
  }
 ],
 "metadata": {
  "kernelspec": {
   "display_name": "Python 3",
   "language": "python",
   "name": "python3"
  },
  "language_info": {
   "codemirror_mode": {
    "name": "ipython",
    "version": 3
   },
   "file_extension": ".py",
   "mimetype": "text/x-python",
   "name": "python",
   "nbconvert_exporter": "python",
   "pygments_lexer": "ipython3",
   "version": "3.9.6"
  }
 },
 "nbformat": 4,
 "nbformat_minor": 5
}
