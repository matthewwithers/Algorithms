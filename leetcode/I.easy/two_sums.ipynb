{
 "cells": [
  {
   "cell_type": "code",
   "execution_count": 2,
   "id": "dcfc2459",
   "metadata": {},
   "outputs": [],
   "source": [
    "# Given an array of integers nums and an integer target, return indices of the two numbers such that they add up to target.\n",
    "# You may assume that each input would have exactly one solution, and you may not use the same element twice.\n",
    "# You can return the answer in any order.\n",
    "\n",
    "# Example 1:\n",
    "\n",
    "# Input: nums = [2,7,11,15], target = 9\n",
    "# Output: [0,1]\n",
    "# Explanation: Because nums[0] + nums[1] == 9, we return [0, 1].\n",
    "\n",
    "# Example 2:\n",
    "\n",
    "# Input: nums = [3,2,4], target = 6\n",
    "# Output: [1,2]\n",
    "\n",
    "# Example 3:\n",
    "\n",
    "# Input: nums = [3,3], target = 6\n",
    "# Output: [0,1]\n"
   ]
  },
  {
   "cell_type": "code",
   "execution_count": null,
   "id": "8ffdc51a",
   "metadata": {},
   "outputs": [],
   "source": [
    "nums_list = [3,4,9,6,4]\n",
    "target = 8\n",
    "\n",
    "\n",
    "def twoSum(nums, target):\n",
    "    \"\"\"\n",
    "    :type nums: List[int]\n",
    "    :type target: int\n",
    "    :rtype: List[int]\n",
    "    \"\"\"\n",
    "    checked_values = {}\n",
    "\n",
    "    for i in range(0,len(nums)):\n",
    "        curr = nums[i]\n",
    "        # curr + x = target\n",
    "        # x = target - curr\n",
    "        x = target - curr\n",
    "        if x in checked_values:\n",
    "            return [i,checked_values[x]]\n",
    "        else:\n",
    "            checked_values[curr] = i"
   ]
  },
  {
   "cell_type": "code",
   "execution_count": 106,
   "id": "87861a9c",
   "metadata": {},
   "outputs": [
    {
     "name": "stdout",
     "output_type": "stream",
     "text": [
      "current:3, x:5\n",
      "False\n",
      "{3: 0}\n",
      "current:4, x:4\n",
      "False\n",
      "{3: 0, 4: 1}\n",
      "current:9, x:-1\n",
      "False\n",
      "{3: 0, 4: 1, 9: 2}\n",
      "current:6, x:2\n",
      "False\n",
      "{3: 0, 4: 1, 9: 2, 6: 3}\n",
      "current:4, x:4\n",
      "True\n",
      "[4, 1]\n"
     ]
    }
   ],
   "source": [
    "print(twoSum(nums_list, target))"
   ]
  },
  {
   "cell_type": "code",
   "execution_count": null,
   "id": "85dd4528",
   "metadata": {},
   "outputs": [],
   "source": []
  }
 ],
 "metadata": {
  "kernelspec": {
   "display_name": "Python 3",
   "language": "python",
   "name": "python3"
  },
  "language_info": {
   "codemirror_mode": {
    "name": "ipython",
    "version": 3
   },
   "file_extension": ".py",
   "mimetype": "text/x-python",
   "name": "python",
   "nbconvert_exporter": "python",
   "pygments_lexer": "ipython3",
   "version": "3.9.6"
  }
 },
 "nbformat": 4,
 "nbformat_minor": 5
}
