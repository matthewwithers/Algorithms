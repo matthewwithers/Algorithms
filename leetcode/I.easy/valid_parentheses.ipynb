{
 "cells": [
  {
   "cell_type": "code",
   "execution_count": 1,
   "id": "c5cdd1b6",
   "metadata": {},
   "outputs": [],
   "source": [
    "# Given a string s containing just the characters '(', ')', '{', '}', '[' and ']', determine if the input string is valid.\n",
    "\n",
    "# An input string is valid if:\n",
    "\n",
    "#     Open brackets must be closed by the same type of brackets.\n",
    "#     Open brackets must be closed in the correct order.\n",
    "#     Every closed bracket has a corresponding open bracket of the same type.\n",
    "\n",
    "# Example 1:\n",
    "# Input: s = \"()\"\n",
    "# Output: true\n",
    "\n",
    "# Example 2:\n",
    "# Input: s = \"()[]{}\"\n",
    "# Output: true\n",
    "\n",
    "# Example 3:\n",
    "# Input: s = \"(]\"\n",
    "# Output: false\n",
    "\n",
    "# Example 4:\n",
    "# Input: s = \"([])\"\n",
    "# Output: true\n",
    "\n",
    "# Example 5:\n",
    "# Input: s = \"([)]\"\n",
    "# Output: false"
   ]
  },
  {
   "cell_type": "code",
   "execution_count": 151,
   "id": "a618c4c8",
   "metadata": {},
   "outputs": [],
   "source": [
    "def isValid(s):\n",
    "    \"\"\"\n",
    "    :type s: str\n",
    "    :rtype: bool\n",
    "    \"\"\"\n",
    "    bracket_map = {'[':']','{':'}','(':')'}\n",
    "    stack = []\n",
    "    if len(s) % 2 != 0:\n",
    "        return False\n",
    "    elif not bracket_map.get(s[0]):\n",
    "        return False\n",
    "        \n",
    "    for char in s:\n",
    "        if bracket_map.get(char) == None:\n",
    "            if bracket_map[stack[-1]] == char:\n",
    "                stack.pop()\n",
    "        else:\n",
    "            stack.append(char)\n",
    "    \n",
    "    # return len(stack) == 0\n",
    "    return True if not stack else False\n",
    "\n",
    "        \n",
    "        \n",
    "        \n",
    "    \n",
    "    \n",
    "            \n",
    "    "
   ]
  },
  {
   "cell_type": "code",
   "execution_count": 152,
   "id": "2f06f115",
   "metadata": {},
   "outputs": [
    {
     "data": {
      "text/plain": [
       "False"
      ]
     },
     "execution_count": 152,
     "metadata": {},
     "output_type": "execute_result"
    }
   ],
   "source": [
    "isValid(\"]\")"
   ]
  },
  {
   "cell_type": "code",
   "execution_count": 155,
   "id": "eff8509b",
   "metadata": {},
   "outputs": [
    {
     "name": "stdout",
     "output_type": "stream",
     "text": [
      "False\n",
      "True\n"
     ]
    }
   ],
   "source": [
    "print(bool([]))\n",
    "print(bool([1]))"
   ]
  },
  {
   "cell_type": "code",
   "execution_count": null,
   "id": "cf5356e4",
   "metadata": {},
   "outputs": [],
   "source": []
  }
 ],
 "metadata": {
  "kernelspec": {
   "display_name": "Python 3",
   "language": "python",
   "name": "python3"
  },
  "language_info": {
   "codemirror_mode": {
    "name": "ipython",
    "version": 3
   },
   "file_extension": ".py",
   "mimetype": "text/x-python",
   "name": "python",
   "nbconvert_exporter": "python",
   "pygments_lexer": "ipython3",
   "version": "3.9.6"
  }
 },
 "nbformat": 4,
 "nbformat_minor": 5
}
