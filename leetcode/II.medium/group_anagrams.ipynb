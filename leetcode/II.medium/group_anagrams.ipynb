{
 "cells": [
  {
   "cell_type": "code",
   "execution_count": 1,
   "id": "659d9886",
   "metadata": {},
   "outputs": [],
   "source": [
    "# Given an array of strings strs, group the anagrams together. You can return the answer in any order.\n",
    "# Input: strs = [\"eat\", \"tea\", \"tan\", \"ate\", \"nat\", \"bat\"]\n",
    "# Output: [[\"bat\"], [\"nat\",\"tan\"],[\"ate\",\"eat\",\"tea\"]]"
   ]
  },
  {
   "cell_type": "code",
   "execution_count": 100,
   "id": "c4439f8a",
   "metadata": {},
   "outputs": [],
   "source": [
    "def groupAnagrams(strs):\n",
    "    \"\"\"\n",
    "    :type strs: List[str]\n",
    "    :rtype: List[List[str]]\n",
    "    \"\"\"\n",
    "    anagramDict={}\n",
    "    for s in strs:\n",
    "        key = ''.join(sorted(s))\n",
    "        if key not in anagramDict:\n",
    "            anagramDict[key] = [s]\n",
    "        else:\n",
    "            anagramDict[key].append(s)\n",
    "\n",
    "    return [i for i in anagramDict.values()]"
   ]
  },
  {
   "cell_type": "code",
   "execution_count": 101,
   "id": "8974db3a",
   "metadata": {},
   "outputs": [
    {
     "data": {
      "text/plain": [
       "[['eat', 'tea', 'ate'], ['tan', 'nat'], ['bat']]"
      ]
     },
     "execution_count": 101,
     "metadata": {},
     "output_type": "execute_result"
    }
   ],
   "source": [
    "groupAnagrams([\"eat\", \"tea\", \"tan\", \"ate\", \"nat\", \"bat\"])"
   ]
  },
  {
   "cell_type": "markdown",
   "id": "8084c074",
   "metadata": {},
   "source": []
  },
  {
   "cell_type": "code",
   "execution_count": 97,
   "id": "56e84eac",
   "metadata": {},
   "outputs": [
    {
     "name": "stdout",
     "output_type": "stream",
     "text": [
      "ert\n"
     ]
    }
   ],
   "source": [
    "print(''.join(sorted('ret')))"
   ]
  },
  {
   "cell_type": "code",
   "execution_count": 94,
   "id": "f00eb258",
   "metadata": {},
   "outputs": [
    {
     "name": "stdout",
     "output_type": "stream",
     "text": [
      "314\n"
     ]
    }
   ],
   "source": [
    "print(ord('t') + ord('e') + ord('a'))"
   ]
  },
  {
   "cell_type": "code",
   "execution_count": null,
   "id": "4c75cdf7",
   "metadata": {},
   "outputs": [],
   "source": []
  }
 ],
 "metadata": {
  "kernelspec": {
   "display_name": "Python 3",
   "language": "python",
   "name": "python3"
  },
  "language_info": {
   "codemirror_mode": {
    "name": "ipython",
    "version": 3
   },
   "file_extension": ".py",
   "mimetype": "text/x-python",
   "name": "python",
   "nbconvert_exporter": "python",
   "pygments_lexer": "ipython3",
   "version": "3.9.6"
  }
 },
 "nbformat": 4,
 "nbformat_minor": 5
}
