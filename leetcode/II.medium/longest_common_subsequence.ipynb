{
 "cells": [
  {
   "cell_type": "code",
   "execution_count": 1,
   "id": "7e80d52a",
   "metadata": {},
   "outputs": [],
   "source": [
    "# Given two strings text1 and text2, return the length of their longest common subsequence. If there is no common subsequence, return 0.\n",
    "# A subsequence of a string is a new string generated from the original string with some characters (can be none) deleted without changing the relative order of the remaining characters.\n",
    "#     For example, \"ace\" is a subsequence of \"abcde\".\n",
    "\n",
    "# A common subsequence of two strings is a subsequence that is common to both strings.\n",
    "\n",
    "# Example 1:\n",
    "\n",
    "# Input: text1 = \"abcde\", text2 = \"ace\" \n",
    "# Output: 3  \n",
    "# Explanation: The longest common subsequence is \"ace\" and its length is 3.\n",
    "\n",
    "# Example 2:\n",
    "\n",
    "# Input: text1 = \"abc\", text2 = \"abc\"\n",
    "# Output: 3\n",
    "# Explanation: The longest common subsequence is \"abc\" and its length is 3.\n",
    "\n",
    "# Example 3:\n",
    "\n",
    "# Input: text1 = \"abc\", text2 = \"def\"\n",
    "# Output: 0\n",
    "# Explanation: There is no such common subsequence, so the result is 0.\n"
   ]
  },
  {
   "cell_type": "code",
   "execution_count": null,
   "id": "19c9bcfa",
   "metadata": {},
   "outputs": [],
   "source": [
    "def longestCommonSubsequence(text1, text2):\n",
    "    \"\"\"\n",
    "    :type text1: str\n",
    "    :type text2: str\n",
    "    :rtype: int\n",
    "    \"\"\"\n",
    "\n",
    "    #    \"\" a b c d e\n",
    "    # \"\"  0 0 0 0 0 0\n",
    "    # a   0 1 1 1 1 1 \n",
    "    # c   0 1 1 2 2 2\n",
    "    # e   0 1 1 2 2 3\n",
    "\n",
    "    n,m = len(text1), len(text2)\n",
    "\n",
    "    dp = [[0]*(m+1) for _ in range(n+1)]\n",
    "\n",
    "    for r in range(1,n+1):\n",
    "        for c in range(1,m+1):\n",
    "            if text1[r-1]==text2[c-1]:\n",
    "                dp[r][c] = 1+dp[r-1][c-1]\n",
    "            else:\n",
    "                dp[r][c] = max(dp[r-1][c],dp[r][c-1])\n",
    "\n",
    "    return dp[-1][-1]\n",
    "\n",
    "        \n",
    "        "
   ]
  },
  {
   "cell_type": "code",
   "execution_count": 30,
   "id": "70396f94",
   "metadata": {},
   "outputs": [
    {
     "name": "stdout",
     "output_type": "stream",
     "text": [
      "1 2\n",
      "1 3\n",
      "2 1\n",
      "2 2\n",
      "2 3\n",
      "3 1\n",
      "3 3\n",
      "4 1\n",
      "4 2\n",
      "4 3\n",
      "5 1\n",
      "5 2\n"
     ]
    },
    {
     "data": {
      "text/plain": [
       "[[0, 0, 0, 0],\n",
       " [0, 1, 1, 1],\n",
       " [0, 1, 1, 1],\n",
       " [0, 1, 2, 2],\n",
       " [0, 1, 2, 2],\n",
       " [0, 1, 2, 3]]"
      ]
     },
     "execution_count": 30,
     "metadata": {},
     "output_type": "execute_result"
    }
   ],
   "source": [
    "longestCommonSubsequence(\"abcde\", \"ace\")"
   ]
  },
  {
   "cell_type": "code",
   "execution_count": null,
   "id": "4bf69b4b",
   "metadata": {},
   "outputs": [
    {
     "data": {
      "text/plain": [
       "3"
      ]
     },
     "execution_count": 8,
     "metadata": {},
     "output_type": "execute_result"
    }
   ],
   "source": [
    "def longestCommonSubsequence(text1, text2):\n",
    "    \"\"\"\n",
    "    :type text1: str\n",
    "    :type text2: str\n",
    "    :rtype: int\n",
    "    \"\"\"\n",
    "\n",
    "    #    \"\" a b c d e\n",
    "    # \"\"  0 0 0 0 0 0\n",
    "    # a   0 1 1 1 1 1\n",
    "    # c   0 1 1 2 2 2\n",
    "    # e   0 1 1 2 2 3\n",
    "\n",
    "    n, m = len(text1), len(text2)  # set row/column grid\n",
    "    dp = [[0]*(m+1) for _ in range(n+1)]\n",
    "\n",
    "    for r in range(1, n+1):\n",
    "        for c in range(1, m+1):\n",
    "            if text1[r-1] == text2[c-1]:\n",
    "                dp[r][c] = 1+dp[r-1][c-1]\n",
    "            else:\n",
    "                dp[r][c] = max(dp[r-1][c], dp[r][c-1])\n",
    "    return dp[-1][-1]\n",
    "\n",
    "\n",
    "longestCommonSubsequence(text1=\"abcde\", text2=\"ace\")"
   ]
  },
  {
   "cell_type": "code",
   "execution_count": null,
   "id": "9f6aa26c",
   "metadata": {},
   "outputs": [],
   "source": []
  },
  {
   "cell_type": "code",
   "execution_count": null,
   "id": "20c68093",
   "metadata": {},
   "outputs": [],
   "source": []
  }
 ],
 "metadata": {
  "kernelspec": {
   "display_name": "Python 3",
   "language": "python",
   "name": "python3"
  },
  "language_info": {
   "codemirror_mode": {
    "name": "ipython",
    "version": 3
   },
   "file_extension": ".py",
   "mimetype": "text/x-python",
   "name": "python",
   "nbconvert_exporter": "python",
   "pygments_lexer": "ipython3",
   "version": "3.9.6"
  }
 },
 "nbformat": 4,
 "nbformat_minor": 5
}
