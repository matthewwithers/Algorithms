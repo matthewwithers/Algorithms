{
 "cells": [
  {
   "cell_type": "code",
   "execution_count": 7,
   "id": "c3c30b96",
   "metadata": {},
   "outputs": [],
   "source": [
    "\n",
    "# Given a string s, return the longest palindromic string in s.\n",
    "# A string is palindromic if it reads the same forward and backward.\n",
    "\n",
    "# Example 1:\n",
    "\n",
    "# Input: s = \"babad\"\n",
    "# Output: \"bab\"\n",
    "# Explanation: \"aba\" is also a valid answer.\n",
    "\n",
    "# Example 2:\n",
    "\n",
    "# Input: s = \"cbbd\"\n",
    "# Output: \"bb\""
   ]
  },
  {
   "cell_type": "code",
   "execution_count": null,
   "id": "d63942d2",
   "metadata": {},
   "outputs": [],
   "source": [
    "def longestPalindrome(s):\n",
    "    \"\"\"\n",
    "    :type s: str\n",
    "    :rtype: str\n",
    "    \"\"\""
   ]
  },
  {
   "cell_type": "code",
   "execution_count": null,
   "id": "5f0cd465",
   "metadata": {},
   "outputs": [],
   "source": []
  }
 ],
 "metadata": {
  "kernelspec": {
   "display_name": "Python 3",
   "language": "python",
   "name": "python3"
  },
  "language_info": {
   "codemirror_mode": {
    "name": "ipython",
    "version": 3
   },
   "file_extension": ".py",
   "mimetype": "text/x-python",
   "name": "python",
   "nbconvert_exporter": "python",
   "pygments_lexer": "ipython3",
   "version": "3.9.6"
  }
 },
 "nbformat": 4,
 "nbformat_minor": 5
}
