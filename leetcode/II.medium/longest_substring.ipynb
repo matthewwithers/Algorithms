{
 "cells": [
  {
   "cell_type": "code",
   "execution_count": null,
   "id": "92e06fd0",
   "metadata": {},
   "outputs": [
    {
     "data": {
      "text/plain": [
       "'\\nGiven a string s, find the length of the longest\\n\\nwithout duplicate characters.\\n\\nExample 1:\\n\\nInput: s = \"abcabcbb\"\\nOutput: 3\\nExplanation: The answer is \"abc\", with the length of 3.\\n\\nExample 2:\\n\\nInput: s = \"bbbbb\"\\nOutput: 1\\nExplanation: The answer is \"b\", with the length of 1.\\n\\nExample 3:\\n\\nInput: s = \"pwwkew\"\\nOutput: 3\\nExplanation: The answer is \"wke\", with the length of 3.\\nNotice that the answer must be a substring, \"pwke\" is a subsequence and not a substring.\\n'"
      ]
     },
     "execution_count": 10,
     "metadata": {},
     "output_type": "execute_result"
    }
   ],
   "source": [
    "\n",
    "# Given a string s, find the length of the longest\n",
    "\n",
    "# without duplicate characters.\n",
    "\n",
    "# Example 1:\n",
    "\n",
    "# Input: s = \"abcabcbb\"\n",
    "# Output: 3\n",
    "# Explanation: The answer is \"abc\", with the length of 3.\n",
    "\n",
    "# Example 2:\n",
    "\n",
    "# Input: s = \"bbbbb\"\n",
    "# Output: 1\n",
    "# Explanation: The answer is \"b\", with the length of 1.\n",
    "\n",
    "# Example 3:\n",
    "\n",
    "# Input: s = \"pwwkew\"\n",
    "# Output: 3\n",
    "# Explanation: The answer is \"wke\", with the length of 3.\n",
    "# Notice that the answer must be a substring, \"pwke\" is a subsequence and not a substring.\n"
   ]
  },
  {
   "cell_type": "code",
   "execution_count": null,
   "id": "de1fd422",
   "metadata": {},
   "outputs": [],
   "source": [
    "def lengthOfLongestSubstring(s):\n",
    "    \"\"\"\n",
    "    :type s: str\n",
    "    :rtype: int\n",
    "    \"\"\"\n",
    "    charSet = set()\n",
    "    l = 0\n",
    "    result = 0\n",
    "    for r in range(len(s)):\n",
    "        input()\n",
    "        while s[r] in charSet:\n",
    "            charSet.remove(s[l])\n",
    "            l += 1\n",
    "        charSet.add(s[r])\n",
    "        result = max(result, r - l + 1)\n",
    "        print(f'''\n",
    "        charset: {charSet}\n",
    "        r: {r} l: {l}\n",
    "        result: {result}\n",
    "''')\n",
    "    return result"
   ]
  },
  {
   "cell_type": "code",
   "execution_count": 6,
   "id": "3fcfeff4",
   "metadata": {},
   "outputs": [
    {
     "name": "stdout",
     "output_type": "stream",
     "text": [
      "\n",
      "        charset: set()\n",
      "        r: 0 l: 0\n",
      "        result: 0\n",
      "\n",
      "\n",
      "        charset: {'a'}\n",
      "        r: 1 l: 0\n",
      "        result: 1\n",
      "\n",
      "\n",
      "        charset: {'a', 'b'}\n",
      "        r: 2 l: 0\n",
      "        result: 2\n",
      "\n",
      "\n",
      "        charset: {'c', 'a', 'b'}\n",
      "        r: 3 l: 0\n",
      "        result: 3\n",
      "\n",
      "\n",
      "        charset: {'a', 'c', 'b'}\n",
      "        r: 4 l: 1\n",
      "        result: 3\n",
      "\n",
      "\n",
      "        charset: {'c', 'a', 'b'}\n",
      "        r: 5 l: 2\n",
      "        result: 3\n",
      "\n"
     ]
    },
    {
     "data": {
      "text/plain": [
       "3"
      ]
     },
     "execution_count": 6,
     "metadata": {},
     "output_type": "execute_result"
    }
   ],
   "source": [
    "lengthOfLongestSubstring('abcabc')"
   ]
  },
  {
   "cell_type": "code",
   "execution_count": null,
   "id": "2de35557",
   "metadata": {},
   "outputs": [],
   "source": []
  },
  {
   "cell_type": "code",
   "execution_count": null,
   "id": "610e5729",
   "metadata": {},
   "outputs": [],
   "source": []
  }
 ],
 "metadata": {
  "kernelspec": {
   "display_name": "Python 3",
   "language": "python",
   "name": "python3"
  },
  "language_info": {
   "codemirror_mode": {
    "name": "ipython",
    "version": 3
   },
   "file_extension": ".py",
   "mimetype": "text/x-python",
   "name": "python",
   "nbconvert_exporter": "python",
   "pygments_lexer": "ipython3",
   "version": "3.9.6"
  }
 },
 "nbformat": 4,
 "nbformat_minor": 5
}
